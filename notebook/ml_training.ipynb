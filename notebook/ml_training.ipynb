{
 "cells": [
  {
   "cell_type": "code",
   "execution_count": 1,
   "metadata": {},
   "outputs": [],
   "source": [
    "import pandas as pd\n",
    "import numpy as np\n",
    "import matplotlib.pyplot as plt\n",
    "import seaborn as sns\n",
    "from category_encoders import HashingEncoder\n",
    "plt.style.use('ggplot')\n",
    "pd.set_option('display.max_rows', 500)\n",
    "pd.set_option('display.max_columns', 500)\n",
    "pd.set_option('display.width', 1000)"
   ]
  },
  {
   "cell_type": "code",
   "execution_count": 2,
   "metadata": {},
   "outputs": [],
   "source": [
    "df = pd.read_parquet('../data/df_cleared.parquet')"
   ]
  },
  {
   "cell_type": "code",
   "execution_count": 3,
   "metadata": {},
   "outputs": [],
   "source": [
    "# Removendo coluna que representa valor target\n",
    "df = df.drop('freightCost', axis=1)"
   ]
  },
  {
   "cell_type": "code",
   "execution_count": 4,
   "metadata": {},
   "outputs": [
    {
     "name": "stdout",
     "output_type": "stream",
     "text": [
      "<class 'pandas.core.frame.DataFrame'>\n",
      "Index: 4803 entries, 0 to 6775\n",
      "Data columns (total 20 columns):\n",
      " #   Column                      Non-Null Count  Dtype  \n",
      "---  ------                      --------------  -----  \n",
      " 0   weight                      4803 non-null   float64\n",
      " 1   costOfGoods                 4803 non-null   float64\n",
      " 2   quantity                    4803 non-null   int64  \n",
      " 3   providerShippingCost        4803 non-null   float64\n",
      " 4   estimatedDeliveryTimeValue  4803 non-null   int64  \n",
      " 5   destination                 4803 non-null   int32  \n",
      " 6   originBranchOfficeId        4803 non-null   int32  \n",
      " 7   modalId                     4803 non-null   int32  \n",
      " 8   fulfillmentMethod           4803 non-null   int32  \n",
      " 9   productCategory             4803 non-null   int32  \n",
      " 10  isPickupEnabled             4803 non-null   int32  \n",
      " 11  deliveryMethodId            4803 non-null   int32  \n",
      " 12  state                       4803 non-null   int32  \n",
      " 13  shippingMethod              4803 non-null   int32  \n",
      " 14  origin                      4803 non-null   int32  \n",
      " 15  isSchedulingEnabled         4803 non-null   int32  \n",
      " 16  isRecommendation            4803 non-null   int32  \n",
      " 17  sku                         4803 non-null   int32  \n",
      " 18  idShop                      4803 non-null   int32  \n",
      " 19  distinctOrigins             4803 non-null   int64  \n",
      "dtypes: float64(3), int32(14), int64(3)\n",
      "memory usage: 525.3 KB\n"
     ]
    }
   ],
   "source": [
    "df.info()"
   ]
  },
  {
   "cell_type": "code",
   "execution_count": 5,
   "metadata": {},
   "outputs": [],
   "source": [
    "all_cols = df.columns\n",
    "num_cols = ['weight', 'costOfGoods','quantity', 'providerShippingCost','estimatedDeliveryTimeValue']\n",
    "cat_cols = [col for col in all_cols if col not in num_cols]"
   ]
  },
  {
   "cell_type": "code",
   "execution_count": 6,
   "metadata": {},
   "outputs": [],
   "source": [
    "from sklearn.model_selection import train_test_split\n",
    "train_df, test_df = train_test_split(df, test_size=0.15, random_state=42)\n",
    "train_df, val_df = train_test_split(train_df, test_size=0.15, random_state=42)\n",
    "\n",
    "train_df = train_df.reset_index(drop=True)\n",
    "test_df = test_df.reset_index(drop=True)\n",
    "val_df = val_df.reset_index(drop=True)"
   ]
  },
  {
   "cell_type": "markdown",
   "metadata": {},
   "source": [
    "Target Encoder para as variáveis categóricas"
   ]
  },
  {
   "cell_type": "code",
   "execution_count": 104,
   "metadata": {},
   "outputs": [],
   "source": [
    "from sklearn.preprocessing import TargetEncoder\n",
    "\n",
    "\n",
    "target = 'providerShippingCost'\n",
    "encoder = TargetEncoder(target_type = 'continuous', random_state= 42, cv=5)\n",
    "encoded_values = encoder.fit_transform(X= train_df[cat_cols], y= train_df[target])\n",
    "\n",
    "df_encoded_cols = pd.DataFrame(encoded_values, columns=cat_cols).reset_index(drop=True)\n",
    "\n",
    "train_df_encoded = train_df.copy().drop(cat_cols, axis=1).reset_index(drop=True)\n",
    "train_df_encoded = pd.concat([train_df_encoded, df_encoded_cols], axis=1)\n",
    "\n",
    "\n",
    "encoded_values = encoder.transform(X= test_df[cat_cols])\n",
    "df_encoded_test = pd.DataFrame(encoded_values, columns=cat_cols)\n",
    "test_df_encoded = test_df.copy().drop(cat_cols, axis=1).reset_index(drop=True)\n",
    "test_df_encoded = pd.concat([test_df_encoded, df_encoded_test], axis=1)"
   ]
  },
  {
   "cell_type": "code",
   "execution_count": 105,
   "metadata": {},
   "outputs": [],
   "source": [
    "from sklearn.ensemble import RandomForestRegressor as RFR, AdaBoostRegressor as ABR, GradientBoostingRegressor as GBR\n",
    "from catboost import CatBoostRegressor as CB\n",
    "from sklearn.metrics import mean_squared_error as mse, mean_absolute_error as mae, root_mean_squared_error as rmse, \\\n",
    "mean_squared_log_error as msle, r2_score as r2, mean_absolute_percentage_error as mape\n",
    "import numpy as np\n",
    "\n",
    "def train_model(train_df: pd.DataFrame, test_df: pd.DataFrame)->pd.DataFrame:\n",
    "\n",
    "    X_train = train_df.drop(\"providerShippingCost\", axis=1)\n",
    "    y_train = train_df['providerShippingCost']\n",
    "\n",
    "    X_test = test_df.drop(\"providerShippingCost\", axis=1)\n",
    "    y_test = test_df['providerShippingCost']\n",
    "    dict_result = {'Regressor': [],'MAE': [],'MAPE': [],'RMSE': [],'RMSLE': [],'Rsquared': []}\n",
    "\n",
    "    for regressor in [\n",
    "        GBR(random_state=42, n_estimators=500, learning_rate=0.1),\n",
    "        ABR(random_state=42, n_estimators=500, learning_rate=0.1), \n",
    "        CB(random_state=42,depth= 4, iterations= 500, l2_leaf_reg= 1, learning_rate= 0.3, verbose=0)\n",
    "        ]:\n",
    "        model = regressor.fit(X=X_train, y = y_train)\n",
    "        y_pred = model.predict(X_test)\n",
    "        y_pred = np.clip(y_pred, a_min=0.01, a_max=None)\n",
    "        mse_score = mse(y_true=y_test, y_pred = y_pred)\n",
    "        mae_score = mae(y_true=y_test, y_pred = y_pred)\n",
    "        mape_score = mape(y_true=y_test, y_pred = y_pred)\n",
    "        rmse_score = rmse(y_true=y_test, y_pred = y_pred)\n",
    "        rmsle_score = np.sqrt(msle(y_true=y_test, y_pred = y_pred))\n",
    "        rsqrt = r2(y_test, y_pred)\n",
    "        dict_result['Regressor'].append(str(regressor.__class__).split('.')[-1].split(\"'\")[0])\n",
    "        dict_result['MAE'].append(mae_score)\n",
    "        dict_result['MAPE'].append(mape_score)\n",
    "        dict_result['RMSE'].append(rmse_score)\n",
    "        dict_result['RMSLE'].append(rmsle_score)\n",
    "        dict_result['Rsquared'].append(rsqrt)\n",
    "    result = pd.DataFrame(dict_result)\n",
    "\n",
    "    importances = model.feature_importances_\n",
    "    importances_df = pd.DataFrame({\n",
    "    'Feature': X_train.columns,\n",
    "    'Importance': importances})\n",
    "\n",
    "    display(result)\n",
    "    return result, importances_df"
   ]
  },
  {
   "cell_type": "markdown",
   "metadata": {},
   "source": [
    "Treinar e testar modelo com as variáveis categóricas codificado (encodered)"
   ]
  },
  {
   "cell_type": "code",
   "execution_count": 106,
   "metadata": {},
   "outputs": [
    {
     "data": {
      "text/html": [
       "<div>\n",
       "<style scoped>\n",
       "    .dataframe tbody tr th:only-of-type {\n",
       "        vertical-align: middle;\n",
       "    }\n",
       "\n",
       "    .dataframe tbody tr th {\n",
       "        vertical-align: top;\n",
       "    }\n",
       "\n",
       "    .dataframe thead th {\n",
       "        text-align: right;\n",
       "    }\n",
       "</style>\n",
       "<table border=\"1\" class=\"dataframe\">\n",
       "  <thead>\n",
       "    <tr style=\"text-align: right;\">\n",
       "      <th></th>\n",
       "      <th>Regressor</th>\n",
       "      <th>MAE</th>\n",
       "      <th>MAPE</th>\n",
       "      <th>RMSE</th>\n",
       "      <th>RMSLE</th>\n",
       "      <th>Rsquared</th>\n",
       "    </tr>\n",
       "  </thead>\n",
       "  <tbody>\n",
       "    <tr>\n",
       "      <th>0</th>\n",
       "      <td>GradientBoostingRegressor</td>\n",
       "      <td>1.180820</td>\n",
       "      <td>1.122729</td>\n",
       "      <td>8.001095</td>\n",
       "      <td>0.127618</td>\n",
       "      <td>0.985162</td>\n",
       "    </tr>\n",
       "    <tr>\n",
       "      <th>1</th>\n",
       "      <td>AdaBoostRegressor</td>\n",
       "      <td>5.079307</td>\n",
       "      <td>9.389359</td>\n",
       "      <td>7.629896</td>\n",
       "      <td>0.493817</td>\n",
       "      <td>0.986507</td>\n",
       "    </tr>\n",
       "    <tr>\n",
       "      <th>2</th>\n",
       "      <td>CatBoostRegressor</td>\n",
       "      <td>1.423230</td>\n",
       "      <td>0.893666</td>\n",
       "      <td>6.976821</td>\n",
       "      <td>0.136491</td>\n",
       "      <td>0.988718</td>\n",
       "    </tr>\n",
       "  </tbody>\n",
       "</table>\n",
       "</div>"
      ],
      "text/plain": [
       "                   Regressor       MAE      MAPE      RMSE     RMSLE  Rsquared\n",
       "0  GradientBoostingRegressor  1.180820  1.122729  8.001095  0.127618  0.985162\n",
       "1          AdaBoostRegressor  5.079307  9.389359  7.629896  0.493817  0.986507\n",
       "2          CatBoostRegressor  1.423230  0.893666  6.976821  0.136491  0.988718"
      ]
     },
     "metadata": {},
     "output_type": "display_data"
    }
   ],
   "source": [
    "result, imp = train_model(train_df_encoded, test_df_encoded)"
   ]
  },
  {
   "cell_type": "markdown",
   "metadata": {},
   "source": [
    "Treinar modelo com dados sem encoder"
   ]
  },
  {
   "cell_type": "code",
   "execution_count": 107,
   "metadata": {},
   "outputs": [
    {
     "data": {
      "text/html": [
       "<div>\n",
       "<style scoped>\n",
       "    .dataframe tbody tr th:only-of-type {\n",
       "        vertical-align: middle;\n",
       "    }\n",
       "\n",
       "    .dataframe tbody tr th {\n",
       "        vertical-align: top;\n",
       "    }\n",
       "\n",
       "    .dataframe thead th {\n",
       "        text-align: right;\n",
       "    }\n",
       "</style>\n",
       "<table border=\"1\" class=\"dataframe\">\n",
       "  <thead>\n",
       "    <tr style=\"text-align: right;\">\n",
       "      <th></th>\n",
       "      <th>Regressor</th>\n",
       "      <th>MAE</th>\n",
       "      <th>MAPE</th>\n",
       "      <th>RMSE</th>\n",
       "      <th>RMSLE</th>\n",
       "      <th>Rsquared</th>\n",
       "    </tr>\n",
       "  </thead>\n",
       "  <tbody>\n",
       "    <tr>\n",
       "      <th>0</th>\n",
       "      <td>GradientBoostingRegressor</td>\n",
       "      <td>0.932291</td>\n",
       "      <td>1.209139</td>\n",
       "      <td>5.059860</td>\n",
       "      <td>0.120337</td>\n",
       "      <td>0.994066</td>\n",
       "    </tr>\n",
       "    <tr>\n",
       "      <th>1</th>\n",
       "      <td>AdaBoostRegressor</td>\n",
       "      <td>6.373539</td>\n",
       "      <td>9.599834</td>\n",
       "      <td>9.708187</td>\n",
       "      <td>0.572919</td>\n",
       "      <td>0.978156</td>\n",
       "    </tr>\n",
       "    <tr>\n",
       "      <th>2</th>\n",
       "      <td>CatBoostRegressor</td>\n",
       "      <td>0.734359</td>\n",
       "      <td>0.194331</td>\n",
       "      <td>4.104427</td>\n",
       "      <td>0.086795</td>\n",
       "      <td>0.996095</td>\n",
       "    </tr>\n",
       "  </tbody>\n",
       "</table>\n",
       "</div>"
      ],
      "text/plain": [
       "                   Regressor       MAE      MAPE      RMSE     RMSLE  Rsquared\n",
       "0  GradientBoostingRegressor  0.932291  1.209139  5.059860  0.120337  0.994066\n",
       "1          AdaBoostRegressor  6.373539  9.599834  9.708187  0.572919  0.978156\n",
       "2          CatBoostRegressor  0.734359  0.194331  4.104427  0.086795  0.996095"
      ]
     },
     "metadata": {},
     "output_type": "display_data"
    }
   ],
   "source": [
    "result, imp = train_model(train_df, test_df)"
   ]
  },
  {
   "cell_type": "markdown",
   "metadata": {},
   "source": [
    "Modelo CatBoost obteve menor erro em todas as métricas. Além disso foi mostrado que o encoder na verdade prejudicou a performance dos modelos em todos os casos."
   ]
  },
  {
   "cell_type": "code",
   "execution_count": 12,
   "metadata": {},
   "outputs": [
    {
     "name": "stdout",
     "output_type": "stream",
     "text": [
      "Best parameters found:  {'l2_leaf_reg': 1, 'learning_rate': 0.5, 'n_estimators': 500}\n",
      "Best cross-validation score:  0.9894973412933986\n"
     ]
    }
   ],
   "source": [
    "from sklearn.model_selection import GridSearchCV\n",
    "from catboost import CatBoostRegressor as CB\n",
    "\n",
    "catboost_model = CB(silent=True)\n",
    "\n",
    "param_grid = {\n",
    "    'n_estimators': [100, 200, 300, 500],                \n",
    "    'learning_rate': [ 0.1, 0.5, 0.05],     \n",
    "    'l2_leaf_reg': [1, 2, 5, None]       \n",
    "}\n",
    "\n",
    "grid_search = GridSearchCV(estimator=catboost_model, param_grid=param_grid, cv=5)\n",
    "\n",
    "X_train = train_df.drop('providerShippingCost',axis=1)\n",
    "y_train = train_df['providerShippingCost']\n",
    "\n",
    "X_test = test_df.drop('providerShippingCost',axis=1)\n",
    "y_test = test_df['providerShippingCost']\n",
    "\n",
    "grid_search.fit(X_train, y_train)\n",
    "\n",
    "print(\"Best parameters found: \", grid_search.best_params_)\n",
    "print(\"Best cross-validation score: \", grid_search.best_score_)"
   ]
  },
  {
   "cell_type": "code",
   "execution_count": 16,
   "metadata": {},
   "outputs": [
    {
     "data": {
      "text/plain": [
       "{'l2_leaf_reg': 1, 'learning_rate': 0.5, 'n_estimators': 500}"
      ]
     },
     "execution_count": 16,
     "metadata": {},
     "output_type": "execute_result"
    }
   ],
   "source": [
    "grid_search.best_params_"
   ]
  },
  {
   "cell_type": "code",
   "execution_count": 20,
   "metadata": {},
   "outputs": [],
   "source": [
    "# Salvando os parametros para serem utilizados depois\n",
    "best_params = grid_search.best_params_"
   ]
  },
  {
   "cell_type": "markdown",
   "metadata": {},
   "source": [
    "Após o resultado do grid de melhores parâmetros podemos treinar novamente somente o *catboost* e testar com o set de validação e utilizar apenas **5 amostras aleatórias** destes set segundo as regras do desafio proposto."
   ]
  },
  {
   "cell_type": "code",
   "execution_count": 72,
   "metadata": {},
   "outputs": [],
   "source": [
    "from catboost import CatBoostRegressor as CB\n",
    "from typing import Dict\n",
    "\n",
    "def train_model_validation(train_df: pd.DataFrame, \n",
    "                    val_df: pd.DataFrame,\n",
    "                    best_params:Dict, \n",
    "                    )->pd.DataFrame:\n",
    "\n",
    "    X_train = train_df.drop(\"providerShippingCost\", axis=1)\n",
    "    y_train = train_df['providerShippingCost']\n",
    "\n",
    "    val_df = val_df.sample(50, random_state=42)\n",
    "    X_val = val_df.drop(\"providerShippingCost\", axis=1)\n",
    "    y_val = val_df['providerShippingCost']\n",
    "    dict_result = {'Regressor': [],'MAE': [],'MAPE': [],'RMSE': [],'RMSLE': [],'Rsquared': []}\n",
    "\n",
    "    regressor = CB(**best_params, verbose=False)\n",
    "    model = regressor.fit(X=X_train, y = y_train)\n",
    "    y_pred = model.predict(X_val)\n",
    "    y_pred = np.clip(y_pred, a_min=0.01, a_max=None)\n",
    "    mae_score = mae(y_true=y_val, y_pred = y_pred)\n",
    "    mape_score = mape(y_true=y_val, y_pred = y_pred)\n",
    "    rmse_score = rmse(y_true=y_val, y_pred = y_pred)\n",
    "    rmsle_score = np.sqrt(msle(y_true=y_val, y_pred = y_pred))\n",
    "    rsqrt = r2(y_val, y_pred)\n",
    "    dict_result['Regressor'].append(str(regressor.__class__).split('.')[-1].split(\"'\")[0])\n",
    "    dict_result['MAE'].append(mae_score)\n",
    "    dict_result['MAPE'].append(mape_score)\n",
    "    dict_result['RMSE'].append(rmse_score)\n",
    "    dict_result['RMSLE'].append(rmsle_score)\n",
    "    dict_result['Rsquared'].append(rsqrt)\n",
    "    result = pd.DataFrame(dict_result)\n",
    "\n",
    "    importances = model.feature_importances_\n",
    "    importances_df = pd.DataFrame({\n",
    "    'Feature': X_train.columns,\n",
    "    'Importance': importances})\n",
    "\n",
    "    display(result)\n",
    "    return result, y_pred, y_val, X_val, importances_df"
   ]
  },
  {
   "cell_type": "code",
   "execution_count": 79,
   "metadata": {},
   "outputs": [
    {
     "data": {
      "text/html": [
       "<div>\n",
       "<style scoped>\n",
       "    .dataframe tbody tr th:only-of-type {\n",
       "        vertical-align: middle;\n",
       "    }\n",
       "\n",
       "    .dataframe tbody tr th {\n",
       "        vertical-align: top;\n",
       "    }\n",
       "\n",
       "    .dataframe thead th {\n",
       "        text-align: right;\n",
       "    }\n",
       "</style>\n",
       "<table border=\"1\" class=\"dataframe\">\n",
       "  <thead>\n",
       "    <tr style=\"text-align: right;\">\n",
       "      <th></th>\n",
       "      <th>Regressor</th>\n",
       "      <th>MAE</th>\n",
       "      <th>MAPE</th>\n",
       "      <th>RMSE</th>\n",
       "      <th>RMSLE</th>\n",
       "      <th>Rsquared</th>\n",
       "    </tr>\n",
       "  </thead>\n",
       "  <tbody>\n",
       "    <tr>\n",
       "      <th>0</th>\n",
       "      <td>CatBoostRegressor</td>\n",
       "      <td>0.303153</td>\n",
       "      <td>0.026554</td>\n",
       "      <td>0.901272</td>\n",
       "      <td>0.064051</td>\n",
       "      <td>0.995747</td>\n",
       "    </tr>\n",
       "  </tbody>\n",
       "</table>\n",
       "</div>"
      ],
      "text/plain": [
       "           Regressor       MAE      MAPE      RMSE     RMSLE  Rsquared\n",
       "0  CatBoostRegressor  0.303153  0.026554  0.901272  0.064051  0.995747"
      ]
     },
     "metadata": {},
     "output_type": "display_data"
    }
   ],
   "source": [
    "result, y_pred, y_val, X_val, importances_df = train_model_validation(train_df=train_df, \n",
    "                                                                                      val_df=val_df, \n",
    "                                                                                      best_params= best_params)"
   ]
  },
  {
   "cell_type": "code",
   "execution_count": 80,
   "metadata": {},
   "outputs": [
    {
     "data": {
      "text/html": [
       "<div>\n",
       "<style scoped>\n",
       "    .dataframe tbody tr th:only-of-type {\n",
       "        vertical-align: middle;\n",
       "    }\n",
       "\n",
       "    .dataframe tbody tr th {\n",
       "        vertical-align: top;\n",
       "    }\n",
       "\n",
       "    .dataframe thead th {\n",
       "        text-align: right;\n",
       "    }\n",
       "</style>\n",
       "<table border=\"1\" class=\"dataframe\">\n",
       "  <thead>\n",
       "    <tr style=\"text-align: right;\">\n",
       "      <th></th>\n",
       "      <th>Feature</th>\n",
       "      <th>Importance</th>\n",
       "    </tr>\n",
       "  </thead>\n",
       "  <tbody>\n",
       "    <tr>\n",
       "      <th>0</th>\n",
       "      <td>weight</td>\n",
       "      <td>94.577312</td>\n",
       "    </tr>\n",
       "    <tr>\n",
       "      <th>17</th>\n",
       "      <td>idShop</td>\n",
       "      <td>1.495542</td>\n",
       "    </tr>\n",
       "    <tr>\n",
       "      <th>4</th>\n",
       "      <td>destination</td>\n",
       "      <td>1.463338</td>\n",
       "    </tr>\n",
       "    <tr>\n",
       "      <th>3</th>\n",
       "      <td>estimatedDeliveryTimeValue</td>\n",
       "      <td>0.753494</td>\n",
       "    </tr>\n",
       "    <tr>\n",
       "      <th>6</th>\n",
       "      <td>modalId</td>\n",
       "      <td>0.573649</td>\n",
       "    </tr>\n",
       "    <tr>\n",
       "      <th>11</th>\n",
       "      <td>state</td>\n",
       "      <td>0.278524</td>\n",
       "    </tr>\n",
       "    <tr>\n",
       "      <th>12</th>\n",
       "      <td>shippingMethod</td>\n",
       "      <td>0.262330</td>\n",
       "    </tr>\n",
       "    <tr>\n",
       "      <th>1</th>\n",
       "      <td>costOfGoods</td>\n",
       "      <td>0.176121</td>\n",
       "    </tr>\n",
       "    <tr>\n",
       "      <th>10</th>\n",
       "      <td>deliveryMethodId</td>\n",
       "      <td>0.157735</td>\n",
       "    </tr>\n",
       "    <tr>\n",
       "      <th>13</th>\n",
       "      <td>origin</td>\n",
       "      <td>0.065430</td>\n",
       "    </tr>\n",
       "    <tr>\n",
       "      <th>2</th>\n",
       "      <td>quantity</td>\n",
       "      <td>0.059934</td>\n",
       "    </tr>\n",
       "    <tr>\n",
       "      <th>7</th>\n",
       "      <td>fulfillmentMethod</td>\n",
       "      <td>0.058773</td>\n",
       "    </tr>\n",
       "    <tr>\n",
       "      <th>8</th>\n",
       "      <td>productCategory</td>\n",
       "      <td>0.018773</td>\n",
       "    </tr>\n",
       "    <tr>\n",
       "      <th>5</th>\n",
       "      <td>originBranchOfficeId</td>\n",
       "      <td>0.017426</td>\n",
       "    </tr>\n",
       "    <tr>\n",
       "      <th>15</th>\n",
       "      <td>isRecommendation</td>\n",
       "      <td>0.013295</td>\n",
       "    </tr>\n",
       "    <tr>\n",
       "      <th>18</th>\n",
       "      <td>distinctOrigins</td>\n",
       "      <td>0.013211</td>\n",
       "    </tr>\n",
       "    <tr>\n",
       "      <th>16</th>\n",
       "      <td>sku</td>\n",
       "      <td>0.012250</td>\n",
       "    </tr>\n",
       "    <tr>\n",
       "      <th>14</th>\n",
       "      <td>isSchedulingEnabled</td>\n",
       "      <td>0.002863</td>\n",
       "    </tr>\n",
       "    <tr>\n",
       "      <th>9</th>\n",
       "      <td>isPickupEnabled</td>\n",
       "      <td>0.000000</td>\n",
       "    </tr>\n",
       "  </tbody>\n",
       "</table>\n",
       "</div>"
      ],
      "text/plain": [
       "                       Feature  Importance\n",
       "0                       weight   94.577312\n",
       "17                      idShop    1.495542\n",
       "4                  destination    1.463338\n",
       "3   estimatedDeliveryTimeValue    0.753494\n",
       "6                      modalId    0.573649\n",
       "11                       state    0.278524\n",
       "12              shippingMethod    0.262330\n",
       "1                  costOfGoods    0.176121\n",
       "10            deliveryMethodId    0.157735\n",
       "13                      origin    0.065430\n",
       "2                     quantity    0.059934\n",
       "7            fulfillmentMethod    0.058773\n",
       "8              productCategory    0.018773\n",
       "5         originBranchOfficeId    0.017426\n",
       "15            isRecommendation    0.013295\n",
       "18             distinctOrigins    0.013211\n",
       "16                         sku    0.012250\n",
       "14         isSchedulingEnabled    0.002863\n",
       "9              isPickupEnabled    0.000000"
      ]
     },
     "execution_count": 80,
     "metadata": {},
     "output_type": "execute_result"
    }
   ],
   "source": [
    "importances_df.sort_values('Importance', ascending=False)"
   ]
  },
  {
   "cell_type": "code",
   "execution_count": 81,
   "metadata": {},
   "outputs": [],
   "source": [
    "df_val = pd.DataFrame({'y_pred':y_pred,\n",
    "                       'y_real': y_val,\n",
    "                       'residual': y_val - y_pred\n",
    "                       })"
   ]
  },
  {
   "cell_type": "code",
   "execution_count": 83,
   "metadata": {},
   "outputs": [
    {
     "data": {
      "image/png": "[encoded data removed]",
      "text/plain": [
       "<Figure size 1500x600 with 2 Axes>"
      ]
     },
     "metadata": {},
     "output_type": "display_data"
    }
   ],
   "source": [
    "# Create a figure with subplots\n",
    "plt.figure(figsize=(15, 6))\n",
    "\n",
    "# First subplot for real and predicted values\n",
    "plt.subplot(2, 1, 1)  # 2 rows, 1 column, plot 1\n",
    "sns.scatterplot(data=df_val, x=df_val.index, y='y_pred', label='Predicted')\n",
    "sns.scatterplot(data=df_val, x=df_val.index, y='y_real', label='Real')\n",
    "plt.title('Real vs Predicted')\n",
    "plt.legend()\n",
    "\n",
    "# Second subplot for residuals\n",
    "plt.subplot(2, 1, 2)  # 2 rows, 1 column, plot 2\n",
    "sns.lineplot(x=df_val.index, y=df_val['residual'])\n",
    "plt.title('Residuals')\n",
    "\n",
    "# Show the plot\n",
    "plt.tight_layout()\n",
    "plt.show()"
   ]
  }
 ],
 "metadata": {
  "kernelspec": {
   "display_name": ".venv",
   "language": "python",
   "name": "python3"
  },
  "language_info": {
   "codemirror_mode": {
    "name": "ipython",
    "version": 3
   },
   "file_extension": ".py",
   "mimetype": "text/x-python",
   "name": "python",
   "nbconvert_exporter": "python",
   "pygments_lexer": "ipython3",
   "version": "3.12.0"
  }
 },
 "nbformat": 4,
 "nbformat_minor": 2
}
